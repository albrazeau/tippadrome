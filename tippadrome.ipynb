{
 "cells": [
  {
   "cell_type": "markdown",
   "metadata": {},
   "source": [
    "# Workflow\n",
    "1. person inputs og bill as string\n",
    "2. turn og bill into a number data type\n",
    "3. add tip to the og bill\n",
    "4. turn it back into a string\n",
    "5. split at the '.'[0]\n",
    "6. reverse it using [::-1]\n",
    "7. add it back to the original with a '.', \n",
    "8. print it\n",
    "\n",
    "if the bill is in the hundreds (5 total digits), divide the length of the original string by 2 to know how to index the string and flip it, \n",
    "round down, flip the first two digits only, leave the middle one, add the first two after the decimal and do the rest the same"
   ]
  },
  {
   "cell_type": "code",
   "execution_count": 1,
   "metadata": {},
   "outputs": [
    {
     "name": "stdout",
     "output_type": "stream",
     "text": [
      "Your original bill is: 34.44 \n",
      "Your final bill is: 40.04 \n",
      "Your tippadrome is: 5.6\n"
     ]
    }
   ],
   "source": [
    "bill = input('Your bill is: ')\n",
    "billf = float(bill)\n",
    "num_to_flip = str(round(float(bill)*1.18, 2)).split('.')[0]\n",
    "decimal = num_to_flip[::-1]\n",
    "finalbill = float(num_to_flip+'.'+decimal)\n",
    "tip = finalbill-billf\n",
    "print('Your original bill is:', bill, '\\nYour final bill is:', finalbill, '\\nYour tippadrome is:', round(tip, 2))"
   ]
  },
  {
   "cell_type": "code",
   "execution_count": null,
   "metadata": {},
   "outputs": [],
   "source": []
  },
  {
   "cell_type": "markdown",
   "metadata": {},
   "source": [
    "### for numbers above 100"
   ]
  },
  {
   "cell_type": "code",
   "execution_count": 2,
   "metadata": {},
   "outputs": [],
   "source": [
    "test = str(10234.45)"
   ]
  },
  {
   "cell_type": "code",
   "execution_count": 5,
   "metadata": {},
   "outputs": [],
   "source": [
    "test1 = test[0:int(len(test)/2)]"
   ]
  },
  {
   "cell_type": "code",
   "execution_count": 7,
   "metadata": {},
   "outputs": [
    {
     "data": {
      "text/plain": [
       "'201'"
      ]
     },
     "execution_count": 7,
     "metadata": {},
     "output_type": "execute_result"
    }
   ],
   "source": [
    "a = test1[:-1]\n",
    "a[::-1]"
   ]
  },
  {
   "cell_type": "code",
   "execution_count": 8,
   "metadata": {},
   "outputs": [
    {
     "name": "stdout",
     "output_type": "stream",
     "text": [
      "1023201\n"
     ]
    }
   ],
   "source": [
    "print(test1+a[::-1])"
   ]
  },
  {
   "cell_type": "markdown",
   "metadata": {},
   "source": [
    "##### add decimal two digits back"
   ]
  },
  {
   "cell_type": "code",
   "execution_count": null,
   "metadata": {},
   "outputs": [],
   "source": []
  }
 ],
 "metadata": {
  "kernelspec": {
   "display_name": "Python 3",
   "language": "python",
   "name": "python3"
  },
  "language_info": {
   "codemirror_mode": {
    "name": "ipython",
    "version": 3
   },
   "file_extension": ".py",
   "mimetype": "text/x-python",
   "name": "python",
   "nbconvert_exporter": "python",
   "pygments_lexer": "ipython3",
   "version": "3.6.5"
  }
 },
 "nbformat": 4,
 "nbformat_minor": 2
}
