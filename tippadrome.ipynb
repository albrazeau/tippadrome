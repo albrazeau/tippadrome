{
 "cells": [
  {
   "cell_type": "markdown",
   "metadata": {},
   "source": [
    "# Workflow\n",
    "1. person inputs og bill as string\n",
    "2. turn og bill into a number data type\n",
    "3. add tip to the og bill\n",
    "4. turn it back into a string\n",
    "5. split at the '.'[0]\n",
    "6. reverse it using [::-1]\n",
    "7. add it back to the original with a '.', \n",
    "8. print it\n",
    "\n",
    "if the bill is in the hundreds (5 total digits), divide the length of the original string by 2 to know how to index the string and flip it, \n",
    "round down, flip the first two digits only, leave the middle one, add the first two after the decimal and do the rest the same"
   ]
  },
  {
   "cell_type": "markdown",
   "metadata": {},
   "source": [
    "##### Won't work above 100 or below 10"
   ]
  },
  {
   "cell_type": "code",
   "execution_count": 1,
   "metadata": {},
   "outputs": [
    {
     "name": "stdout",
     "output_type": "stream",
     "text": [
      "Your original bill is: 56.98 \n",
      "Your final bill is: 67.76 \n",
      "Your tippadrome is: 10.78\n"
     ]
    }
   ],
   "source": [
    "bill = input('Your bill is: ')\n",
    "billf = float(bill)\n",
    "num_to_flip = str(round(float(bill)*1.18, 2)).split('.')[0]\n",
    "decimal = num_to_flip[::-1]\n",
    "finalbill = float(num_to_flip+'.'+decimal)\n",
    "tip = finalbill-billf\n",
    "print('Your original bill is:', bill, '\\nYour final bill is:', finalbill, '\\nYour tippadrome is:', round(tip, 2))"
   ]
  },
  {
   "cell_type": "code",
   "execution_count": null,
   "metadata": {},
   "outputs": [],
   "source": []
  },
  {
   "cell_type": "code",
   "execution_count": null,
   "metadata": {},
   "outputs": [],
   "source": []
  },
  {
   "cell_type": "code",
   "execution_count": 2,
   "metadata": {},
   "outputs": [
    {
     "name": "stdout",
     "output_type": "stream",
     "text": [
      "Your original bill is: 783.75 \n",
      "Your final bill is: 924.29 \n",
      "Your tippadrome is: 140.54\n"
     ]
    }
   ],
   "source": [
    "bill = input('Your bill is: ')\n",
    "billf = float(bill)\n",
    "num_to_flip = '{:.2f}'.format(round(billf*1.18, 2))\n",
    "\n",
    "if len(num_to_flip) <= 4:\n",
    "    print('Error, your bill is too small')\n",
    "    \n",
    "elif len(num_to_flip) >= 7:\n",
    "    print('Error, your bill is too large, try spending less money you extravagent fool')\n",
    "    \n",
    "elif len(num_to_flip) %2 == 1:\n",
    "    w = num_to_flip.split('.')[0]\n",
    "    decimal = w[::-1]\n",
    "    finalbill = float(w+'.'+decimal)\n",
    "    tip = finalbill-billf\n",
    "    print('Your original bill is:', bill, '\\nYour final bill is:', finalbill, '\\nYour tippadrome is:', '{:.2f}'.format(round(tip, 2)))\n",
    "    \n",
    "elif len(num_to_flip) %2 == 0:\n",
    "    a = num_to_flip.replace('.', '')\n",
    "    b = a[0:int(len(a)/2)+1]\n",
    "    c = b[:-1]\n",
    "    d = b+c[::-1]\n",
    "    e = d[:-2] + '.' + d[-2:]\n",
    "    finalbill = float(e)\n",
    "    tip = finalbill-billf\n",
    "    print('Your original bill is:', bill, '\\nYour final bill is:', finalbill, '\\nYour tippadrome is:', '{:.2f}'.format(round(tip, 2)))"
   ]
  },
  {
   "cell_type": "code",
   "execution_count": null,
   "metadata": {},
   "outputs": [],
   "source": []
  }
 ],
 "metadata": {
  "kernelspec": {
   "display_name": "Python 3",
   "language": "python",
   "name": "python3"
  },
  "language_info": {
   "codemirror_mode": {
    "name": "ipython",
    "version": 3
   },
   "file_extension": ".py",
   "mimetype": "text/x-python",
   "name": "python",
   "nbconvert_exporter": "python",
   "pygments_lexer": "ipython3",
   "version": "3.6.5"
  }
 },
 "nbformat": 4,
 "nbformat_minor": 2
}
